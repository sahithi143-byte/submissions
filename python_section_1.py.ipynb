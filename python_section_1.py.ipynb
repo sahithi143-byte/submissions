{
 "cells": [
  {
   "cell_type": "code",
   "execution_count": 3,
   "id": "b29f02cb",
   "metadata": {},
   "outputs": [
    {
     "name": "stdout",
     "output_type": "stream",
     "text": [
      "[3, 2, 1, 6, 5, 4, 8, 7]\n",
      "[5, 4, 3, 2, 1]\n",
      "[70, 60, 18, 40, 17, 16, 15]\n"
     ]
    }
   ],
   "source": [
    "#Question 1: Reverse List by N Elements\n",
    "    \n",
    "def reverse_in_groups(lst, n):\n",
    "    result = []\n",
    "    i = 0\n",
    "    while i < len(lst):\n",
    "        group = []\n",
    "        # Create a group of size n or the remaining elements if less than n\n",
    "        for j in range(i, min(i + n, len(lst))):\n",
    "            group.append(lst[j])\n",
    "        # Manually reverse the group and add to the result\n",
    "        for j in range(len(group) - 1, -1, -1):\n",
    "            result.append(group[j])\n",
    "        i += n\n",
    "    return result\n",
    "print(reverse_in_groups([1, 2, 3, 4, 5, 6, 7, 8], 3))  \n",
    "print(reverse_in_groups([1, 2, 3, 4, 5], 5))           \n",
    "print(reverse_in_groups([15, 16, 17, 40, 18, 60, 70], 60))  \n"
   ]
  },
  {
   "cell_type": "code",
   "execution_count": 4,
   "id": "21250d43",
   "metadata": {},
   "outputs": [
    {
     "name": "stdout",
     "output_type": "stream",
     "text": [
      "{5: ['ramya', 'hasni'], 6: ['Chandu', 'cherry'], 7: ['Sahithi', 'Mallika'], 8: ['Gayathri']}\n",
      "{3: ['one', 'two'], 4: ['four'], 5: ['three']}\n"
     ]
    }
   ],
   "source": [
    "#Question 2: Lists & Dictionaries\n",
    "\n",
    "from typing import List, Dict\n",
    "\n",
    "def group_by_length(lst: List[str]) -> Dict[int, List[str]]:\n",
    "    \"\"\"\n",
    "    Groups the strings by their length and returns a dictionary.\n",
    "    \"\"\"\n",
    "    length_dict = {}\n",
    "    \n",
    "    for string in lst:\n",
    "        length_dict.setdefault(len(string), []).append(string)\n",
    "    \n",
    "    return dict(sorted(length_dict.items()))\n",
    "\n",
    "print(group_by_length([\"Sahithi\", \"Gayathri\", \"Mallika\", \"ramya\", \"Chandu\", \"cherry\",\"hasni\"]))\n",
    "\n",
    "print(group_by_length([\"one\", \"two\", \"three\", \"four\"]))\n",
    "\n"
   ]
  },
  {
   "cell_type": "code",
   "execution_count": 3,
   "id": "6a8fab94",
   "metadata": {},
   "outputs": [
    {
     "name": "stdout",
     "output_type": "stream",
     "text": [
      "{'road.name': 'Highway 1', 'road.length': 350, 'road.sections': [{'id': 1, 'condition': {'pavement': 'goodd', 'traffic': 'moderate'}}]}\n"
     ]
    }
   ],
   "source": [
    "Question 3: Flatten a Nested Dictionary\n",
    "\n",
    "def flatten_dict(nested_dict, sep='.'):\n",
    "  flattened = {}\n",
    "  for key, value in nested_dict.items():\n",
    "    if isinstance(value, dict):\n",
    "      # Recursively flatten nested dictionaries\n",
    "      nested_flattened = flatten_dict(value, sep)\n",
    "      for nested_key, nested_value in nested_flattened.items():\n",
    "        flattened[key + sep + nested_key] = nested_value\n",
    "    else:\n",
    "      flattened[key] = value\n",
    "\n",
    "  return flattened\n",
    "nested_dict = {\n",
    "    \"road\": {\n",
    "        \"name\": \"Highway 1\",\n",
    "        \"length\": 350,\n",
    "        \"sections\": [\n",
    "            {\n",
    "                \"id\": 1,\n",
    "                \"condition\": {\n",
    "                    \"pavement\": \"good\",\n",
    "                    \"traffic\": \"moderate\"\n",
    "                }\n",
    "            }\n",
    "        ]\n",
    "    }\n",
    "}\n",
    "\n",
    "flattened = flatten_dict(nested_dict)\n",
    "print(flattened)"
   ]
  },
  {
   "cell_type": "code",
   "execution_count": 5,
   "id": "a213b379",
   "metadata": {},
   "outputs": [
    {
     "name": "stdout",
     "output_type": "stream",
     "text": [
      "[[1, 2, 3], [1, 3, 2], [2, 1, 3], [2, 3, 1], [3, 1, 2], [3, 2, 1]]\n"
     ]
    }
   ],
   "source": [
    "#Question 4: Generate Unique Permutations\n",
    "    \n",
    "from typing import List\n",
    "\n",
    "def unique_permutations(nums: List[int]) -> List[List[int]]:\n",
    "    def backtrack(path):\n",
    "        if len(path) == len(nums):\n",
    "            result.append(path[:])\n",
    "            return\n",
    "        \n",
    "        for i in range(len(nums)):\n",
    "            if used[i] or (i > 0 and nums[i] == nums[i - 1] and not used[i - 1]):\n",
    "                continue\n",
    "            \n",
    "            used[i] = True\n",
    "            backtrack(path + [nums[i]])\n",
    "            used[i] = False\n",
    "    \n",
    "    result = []\n",
    "    nums.sort()  # Sort to handle duplicates\n",
    "    used = [False] * len(nums)\n",
    "    backtrack([])\n",
    "    return result\n",
    "print(unique_permutations([1, 3, 2]))\n",
    "\n"
   ]
  },
  {
   "cell_type": "code",
   "execution_count": 5,
   "id": "a84653d1",
   "metadata": {},
   "outputs": [
    {
     "name": "stdout",
     "output_type": "stream",
     "text": [
      "['23-08-2000', '08/23/2000', '1994.08.23']\n"
     ]
    }
   ],
   "source": [
    "Question 5: Find All Dates in a Text\n",
    "    \n",
    "import re\n",
    "\n",
    "def find_all_dates(text):\n",
    "\n",
    "    pattern = r'\\d{2}-\\d{2}-\\d{4}|\\d{2}/\\d{2}/\\d{4}|\\d{4}\\.\\d{2}\\.\\d{2}'\n",
    "    \n",
    "    # Use re.findall to get all matching dates\n",
    "    dates = re.findall(pattern, text)\n",
    "    \n",
    "    return dates\n",
    "\n",
    "text = \"I was born on 23-08-2000, my friend on 08/23/2000, and brother on 1994.08.23.\"\n",
    "result = find_all_dates(text)\n",
    "print(result)\n",
    "\n"
   ]
  },
  {
   "cell_type": "code",
   "execution_count": 6,
   "id": "f3a86333",
   "metadata": {},
   "outputs": [
    {
     "name": "stdout",
     "output_type": "stream",
     "text": [
      "   latitude  longitude       distance\n",
      "0    38.500   -120.200       0.000000\n",
      "1    40.700   -120.950  252924.435162\n",
      "2    43.252   -126.453  535981.434984\n"
     ]
    }
   ],
   "source": [
    "#Question 6: Decode Polyline, Convert to DataFrame with Distances\n",
    "    \n",
    "import pandas as pd\n",
    "import polyline\n",
    "from math import radians, sin, cos, sqrt, atan2\n",
    "\n",
    "def haversine(lat1, lon1, lat2, lon2):\n",
    "\n",
    "    R = 6371000  # Radius of the Earth in meters\n",
    "    dlat = radians(lat2 - lat1)\n",
    "    dlon = radians(lon2 - lon1)\n",
    "    a = sin(dlat/2)**2 + cos(radians(lat1)) * cos(radians(lat2)) * sin(dlon/2)**2\n",
    "    c = 2 * atan2(sqrt(a), sqrt(1-a))\n",
    "    return R * c\n",
    "\n",
    "def polyline_to_dataframe(polyline_str: str) -> pd.DataFrame:\n",
    "\n",
    "    coordinates = polyline.decode(polyline_str)\n",
    "    distances = [0]\n",
    "    \n",
    "    # Compute distances between consecutive points\n",
    "    for i in range(1, len(coordinates)):\n",
    "        lat1, lon1 = coordinates[i-1]\n",
    "        lat2, lon2 = coordinates[i]\n",
    "        distance = haversine(lat1, lon1, lat2, lon2)\n",
    "        distances.append(distance)\n",
    "    \n",
    "    # Create a DataFrame with latitude, longitude, and distance columns\n",
    "    df = pd.DataFrame(coordinates, columns=['latitude', 'longitude'])\n",
    "    df['distance'] = distances\n",
    "    \n",
    "    return df\n",
    "\n",
    "# Example usage\n",
    "polyline_str = '_p~iF~ps|U_ulLnnqC_mqNvxq`@'\n",
    "df = polyline_to_dataframe(polyline_str)\n",
    "print(df)\n"
   ]
  },
  {
   "cell_type": "code",
   "execution_count": 7,
   "id": "8292966d",
   "metadata": {},
   "outputs": [
    {
     "name": "stdout",
     "output_type": "stream",
     "text": [
      "Collecting polyline\n",
      "  Downloading polyline-2.0.2-py3-none-any.whl (6.0 kB)\n",
      "Installing collected packages: polyline\n",
      "Successfully installed polyline-2.0.2\n",
      "Note: you may need to restart the kernel to use updated packages.\n"
     ]
    }
   ],
   "source": [
    "pip install polyline\n"
   ]
  },
  {
   "cell_type": "code",
   "execution_count": 8,
   "id": "e15f52c0",
   "metadata": {},
   "outputs": [
    {
     "name": "stdout",
     "output_type": "stream",
     "text": [
      "[22, 19, 16]\n",
      "[23, 20, 17]\n",
      "[24, 21, 18]\n"
     ]
    }
   ],
   "source": [
    "#Question 7: Matrix Rotation and Transformation\n",
    "    \n",
    "from typing import List\n",
    "\n",
    "def rotate_and_multiply_matrix(matrix: List[List[int]]) -> List[List[int]]:\n",
    "\n",
    "    n = len(matrix)\n",
    "\n",
    "    rotated_matrix = [[matrix[n - j - 1][i] for j in range(n)] for i in range(n)]\n",
    "\n",
    "    final_matrix = [[0] * n for _ in range(n)]\n",
    "    \n",
    "    for i in range(n):\n",
    "        for j in range(n):\n",
    "            row_sum = sum(rotated_matrix[i]) - rotated_matrix[i][j]  # Sum of row excluding current element\n",
    "            col_sum = sum(rotated_matrix[k][j] for k in range(n)) - rotated_matrix[i][j]  # Sum of column excluding current element\n",
    "            final_matrix[i][j] = row_sum + col_sum\n",
    "    \n",
    "    return final_matrix\n",
    "\n",
    "\n",
    "matrix = [[1, 2, 3],\n",
    "          [4, 5, 6],\n",
    "          [7, 8, 9]]\n",
    "\n",
    "result = rotate_and_multiply_matrix(matrix)\n",
    "for row in result:\n",
    "    print(row)\n"
   ]
  },
  {
   "cell_type": "code",
   "execution_count": 9,
   "id": "fc2e85e2",
   "metadata": {},
   "outputs": [
    {
     "name": "stdout",
     "output_type": "stream",
     "text": [
      "Dataset loaded successfully.\n",
      "Results of timestamp completeness check:\n",
      "id       id_2    \n",
      "1014000  -1          True\n",
      "1014002  -1          True\n",
      "1014003  -1          True\n",
      "1030000  -1          True\n",
      "          1030002    True\n",
      "                     ... \n",
      "1330016   1330006    True\n",
      "          1330008    True\n",
      "          1330010    True\n",
      "          1330012    True\n",
      "          1330014    True\n",
      "Length: 9254, dtype: bool\n"
     ]
    }
   ],
   "source": [
    "#Question 8: Time Check\n",
    "    \n",
    "import pandas as pd\n",
    "from pandas import Timestamp\n",
    "\n",
    "def time_check(df: pd.DataFrame) -> pd.Series:\n",
    "    \"\"\"\n",
    "    Use the dataset to verify the completeness of the data by checking whether the \n",
    "    timestamps for each unique (id, id_2) pair cover a full 24-hour and 7-day period.\n",
    "\n",
    "    Args:\n",
    "        df (pandas.DataFrame): DataFrame containing columns id, id_2, startDay, startTime, endDay, endTime.\n",
    "\n",
    "    Returns:\n",
    "        pd.Series: Boolean series indicating if each (id, id_2) pair has incorrect timestamps.\n",
    "    \"\"\"\n",
    "    \n",
    "    # Mapping days to numbers (0 for Monday, 6 for Sunday)\n",
    "    day_mapping = {\n",
    "        'Monday': 0, 'Tuesday': 1, 'Wednesday': 2, 'Thursday': 3,\n",
    "        'Friday': 4, 'Saturday': 5, 'Sunday': 6\n",
    "    }\n",
    "    \n",
    "    # Convert startDay and endDay to weekday numbers\n",
    "    df['startDayNum'] = df['startDay'].map(day_mapping)\n",
    "    df['endDayNum'] = df['endDay'].map(day_mapping)\n",
    "\n",
    "    # Convert startTime and endTime to datetime for time comparisons\n",
    "    df['startTime'] = pd.to_datetime(df['startTime'], format='%H:%M:%S').dt.time\n",
    "    df['endTime'] = pd.to_datetime(df['endTime'], format='%H:%M:%S').dt.time\n",
    "\n",
    "    # Function to check if all 7 days and 24 hours are covered for each (id, id_2) pair\n",
    "    def check_completeness(sub_df):\n",
    "        # Check if all days of the week (0-6) are covered\n",
    "        days_covered = set(sub_df['startDayNum']) | set(sub_df['endDayNum'])\n",
    "        all_days_present = set(range(7)) == days_covered\n",
    "        \n",
    "        # Check if the full 24-hour period is covered (from 00:00:00 to 23:59:59)\n",
    "        min_start_time = min(sub_df['startTime'])\n",
    "        max_end_time = max(sub_df['endTime'])\n",
    "        full_day_covered = (min_start_time == Timestamp('00:00:00').time()) and (max_end_time == Timestamp('23:59:59').time())\n",
    "        \n",
    "        return all_days_present and full_day_covered\n",
    "\n",
    "    # Group by (id, id_2) and apply the completeness check function\n",
    "    result = df.groupby(['id', 'id_2']).apply(check_completeness)\n",
    "\n",
    "    return ~result  # Return a boolean series with True indicating incomplete data\n",
    "\n",
    "# Full program with loading dataset-1.csv\n",
    "\n",
    "def main():\n",
    "    \"\"\"\n",
    "    Main function to load the dataset and check the completeness of timestamps\n",
    "    for each unique (id, id_2) pair.\n",
    "    \"\"\"\n",
    "    # Load dataset-1.csv\n",
    "    try:\n",
    "        df = pd.read_csv(\"C:/Users/sahit/Downloads/dataset-1.csv\")\n",
    "        print(\"Dataset loaded successfully.\")\n",
    "        \n",
    "        # Perform the time check\n",
    "        result = time_check(df)\n",
    "        \n",
    "        # Print the result\n",
    "        print(\"Results of timestamp completeness check:\")\n",
    "        print(result)\n",
    "    except FileNotFoundError:\n",
    "        print(\"Error: The file 'dataset-1.csv' was not found.\")\n",
    "    except Exception as e:\n",
    "        print(f\"An error occurred: {e}\")\n",
    "\n",
    "# Run the main function\n",
    "if __name__ == \"__main__\":\n",
    "    main()\n"
   ]
  },
  {
   "cell_type": "code",
   "execution_count": null,
   "id": "0ad9f4f9",
   "metadata": {},
   "outputs": [],
   "source": []
  }
 ],
 "metadata": {
  "kernelspec": {
   "display_name": "Python 3 (ipykernel)",
   "language": "python",
   "name": "python3"
  },
  "language_info": {
   "codemirror_mode": {
    "name": "ipython",
    "version": 3
   },
   "file_extension": ".py",
   "mimetype": "text/x-python",
   "name": "python",
   "nbconvert_exporter": "python",
   "pygments_lexer": "ipython3",
   "version": "3.11.3"
  }
 },
 "nbformat": 4,
 "nbformat_minor": 5
}
